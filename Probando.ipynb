{
  "nbformat": 4,
  "nbformat_minor": 0,
  "metadata": {
    "colab": {
      "provenance": [],
      "authorship_tag": "ABX9TyOdY82RfRMchG32yXmnG6TZ",
      "include_colab_link": true
    },
    "kernelspec": {
      "name": "python3",
      "display_name": "Python 3"
    },
    "language_info": {
      "name": "python"
    }
  },
  "cells": [
    {
      "cell_type": "markdown",
      "metadata": {
        "id": "view-in-github",
        "colab_type": "text"
      },
      "source": [
        "<a href=\"https://colab.research.google.com/github/Contar05/JupyterNotebook/blob/main/Probando.ipynb\" target=\"_parent\"><img src=\"https://colab.research.google.com/assets/colab-badge.svg\" alt=\"Open In Colab\"/></a>"
      ]
    },
    {
      "cell_type": "code",
      "execution_count": 41,
      "metadata": {
        "colab": {
          "base_uri": "https://localhost:8080/"
        },
        "id": "4-3hw3bW6sPS",
        "outputId": "a9330dee-c62e-46f6-fe25-ec38448f942a"
      },
      "outputs": [
        {
          "output_type": "stream",
          "name": "stdout",
          "text": [
            "    * \n",
            "   * * \n",
            "  * * * \n",
            " * * * * \n",
            "* * * * * \n"
          ]
        }
      ],
      "source": [
        "def piramide(n):\n",
        "  if n<1:\n",
        "    print('No podes crear una piramide tan pequeña')\n",
        "  elif n>10:\n",
        "    print('Para flaco tanta piramide vas a querer')\n",
        "  else:\n",
        "    j=n-1;\n",
        "    for i in range(1,n+1):\n",
        "      print(j*' '+ i*'* ')\n",
        "      j=j-1\n",
        "\n",
        "\n",
        "\n",
        "piramide(5)"
      ]
    },
    {
      "cell_type": "code",
      "source": [],
      "metadata": {
        "id": "bIzQWb3lus-3"
      },
      "execution_count": null,
      "outputs": []
    }
  ]
}